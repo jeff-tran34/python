{
 "cells": [
  {
   "cell_type": "raw",
   "id": "b69724c7",
   "metadata": {},
   "source": [
    "Questions 1,2, and 3 deal with \"InterviewData_cost.csv\" and \"InterviewData_rev.csv\".\n",
    "\n",
    "(1) Join these two data sets by \"date\" and \"source_id\", returning all rows from both regardless of whether there is a match between the two data sets."
   ]
  },
  {
   "cell_type": "code",
   "execution_count": 1,
   "id": "b20f89a6",
   "metadata": {},
   "outputs": [],
   "source": [
    "import pandas as pd\n",
    "from pandasql import sqldf\n",
    "import numpy as np\n",
    "# import matplotlib.pyplot as plt\n",
    "# %matplotlib inline"
   ]
  },
  {
   "cell_type": "code",
   "execution_count": 2,
   "id": "a2d3f7d7",
   "metadata": {},
   "outputs": [
    {
     "name": "stdout",
     "output_type": "stream",
     "text": [
      "/Users/jeff/Documents/Notebooks\n"
     ]
    }
   ],
   "source": [
    "cd /Users/jeff/Documents/Notebooks"
   ]
  },
  {
   "cell_type": "code",
   "execution_count": 3,
   "id": "48eb0cc6",
   "metadata": {},
   "outputs": [],
   "source": [
    "filepath = \"./Data/\"\n",
    "\n",
    "id_cost = pd.read_csv(filepath + \"interviewdata-cost.csv\")\n",
    "id_rev  = pd.read_csv(filepath + \"interviewdata-rev.csv\")\n",
    "\n",
    "#id_cost.head(3)\n",
    "#id_rev.head(3)"
   ]
  },
  {
   "cell_type": "code",
   "execution_count": 4,
   "id": "a86ce454",
   "metadata": {
    "scrolled": true
   },
   "outputs": [
    {
     "name": "stdout",
     "output_type": "stream",
     "text": [
      "           date source_id    cost  revenue      _merge\n",
      "0      10/17/14    PA0577  7168.0   8417.0        both\n",
      "1       8/17/14    PA0354  7615.0   4200.0        both\n",
      "2        1/7/14    PA0607  4054.0   7935.0        both\n",
      "3       8/25/14    PA0745  9317.0   5536.0        both\n",
      "4      11/30/14    PA0923  5586.0      NaN   left_only\n",
      "...         ...       ...     ...      ...         ...\n",
      "14613  12/29/14    PA0958     NaN   7406.0  right_only\n",
      "14614   3/19/14    PA0732     NaN   6584.0  right_only\n",
      "14615   9/24/14    PA0174     NaN   3827.0  right_only\n",
      "14616  10/26/14    PA0318     NaN    533.0  right_only\n",
      "14617    1/4/14    PA0354     NaN   3070.0  right_only\n",
      "\n",
      "[14618 rows x 5 columns]\n"
     ]
    }
   ],
   "source": [
    "table_1 = pd.merge(id_cost,id_rev,on=['date','source_id'],how='outer', indicator=True)\n",
    "print(table_1)"
   ]
  },
  {
   "cell_type": "raw",
   "id": "50f33908",
   "metadata": {},
   "source": [
    "(2) Join these two data sets by \"date\" and \"source_id\", returning only the rows from the \"Cost\" file that have no corresponding date in the \"Revenue\" file."
   ]
  },
  {
   "cell_type": "code",
   "execution_count": 5,
   "id": "69f02bde",
   "metadata": {},
   "outputs": [
    {
     "name": "stdout",
     "output_type": "stream",
     "text": [
      "          date source_id    cost revenue     _merge\n",
      "0     11/30/14    PA0923  5586.0    None  left_only\n",
      "1     12/17/14    PA0952  6662.0    None  left_only\n",
      "2      5/22/14    PA0411  4795.0    None  left_only\n",
      "3     10/14/14    PA0168  9651.0    None  left_only\n",
      "4      2/13/14    PA0354  2752.0    None  left_only\n",
      "...        ...       ...     ...     ...        ...\n",
      "4613   12/7/14    PA0900  2037.0    None  left_only\n",
      "4614   7/11/14    PA0474   726.0    None  left_only\n",
      "4615   1/10/14    PA0830  6202.0    None  left_only\n",
      "4616   1/31/14    PA0467  7057.0    None  left_only\n",
      "4617   10/1/14    PA0293  1053.0    None  left_only\n",
      "\n",
      "[4618 rows x 5 columns]\n"
     ]
    }
   ],
   "source": [
    "print(sqldf(\"\"\"\n",
    "    SELECT *\n",
    "    FROM table_1\n",
    "    WHERE _merge = \"left_only\"\n",
    "    LIMIT 10000\n",
    "\"\"\", locals()))"
   ]
  },
  {
   "cell_type": "raw",
   "id": "109e3d8b",
   "metadata": {},
   "source": [
    "(3) Using your results from #1:\n",
    "    a. What are the Top 4 Sources (\"source_id\" values) in terms of total revenue generation across this data set?"
   ]
  },
  {
   "cell_type": "code",
   "execution_count": 6,
   "id": "bdf7733a",
   "metadata": {},
   "outputs": [
    {
     "name": "stdout",
     "output_type": "stream",
     "text": [
      "  source_id  annual_revenue  annual_rank\n",
      "0    PA0527       1385747.0            1\n",
      "1    PA0308       1338615.0            2\n",
      "2    PA0352       1309685.0            3\n",
      "3    PA0552       1283190.0            4\n"
     ]
    }
   ],
   "source": [
    "print(sqldf(\"\"\"\n",
    "    SELECT \n",
    "        source_id,\n",
    "        sum(revenue) as \"annual_revenue\",\n",
    "        rank() over (order by sum(revenue) desc) as annual_rank\n",
    "    FROM table_1\n",
    "    GROUP BY source_id\n",
    "    ORDER BY sum(revenue) desc\n",
    "    LIMIT 4\n",
    "\"\"\", locals()))"
   ]
  },
  {
   "cell_type": "raw",
   "id": "91bd433c",
   "metadata": {},
   "source": [
    "    b. How would you visualize the monthly revenue for those Top 4 sources?"
   ]
  },
  {
   "cell_type": "code",
   "execution_count": 7,
   "id": "1512c7dc",
   "metadata": {},
   "outputs": [
    {
     "name": "stdout",
     "output_type": "stream",
     "text": [
      "   Month_Year Month  Year source_1  revenue_1 source_2  revenue_2 source_3  \\\n",
      "0     01/2014    01  2014   PA0527   111528.0   PA0308    74573.0   PA0352   \n",
      "1     02/2014    02  2014   PA0527   105195.0   PA0308   108134.0   PA0352   \n",
      "2     03/2014    03  2014   PA0527   135439.0   PA0308   142817.0   PA0352   \n",
      "3     04/2014    04  2014   PA0527   112385.0   PA0308   164805.0   PA0352   \n",
      "4     05/2014    05  2014   PA0527   114339.0   PA0308   122349.0   PA0352   \n",
      "5     06/2014    06  2014   PA0527   112022.0   PA0308    76398.0   PA0352   \n",
      "6     07/2014    07  2014   PA0527   128733.0   PA0308   104544.0   PA0352   \n",
      "7     08/2014    08  2014   PA0527    91288.0   PA0308    99909.0   PA0352   \n",
      "8     09/2014    09  2014   PA0527   140484.0   PA0308    99915.0   PA0352   \n",
      "9     10/2014    10  2014   PA0527   135752.0   PA0308   113668.0   PA0352   \n",
      "10    11/2014    11  2014   PA0527    66297.0   PA0308   107097.0   PA0352   \n",
      "11    12/2014    12  2014   PA0527   132285.0   PA0308   124406.0   PA0352   \n",
      "\n",
      "    revenue_3 source_4  revenue_4  \n",
      "0    103252.0   PA0552    95687.0  \n",
      "1     83001.0   PA0552    99742.0  \n",
      "2    100480.0   PA0552    90240.0  \n",
      "3     93279.0   PA0552   111432.0  \n",
      "4    148362.0   PA0552   129668.0  \n",
      "5    139655.0   PA0552   103569.0  \n",
      "6    118855.0   PA0552   117613.0  \n",
      "7    115949.0   PA0552    78776.0  \n",
      "8    117853.0   PA0552   118337.0  \n",
      "9    100393.0   PA0552   102767.0  \n",
      "10    78840.0   PA0552    94062.0  \n",
      "11   109766.0   PA0552   141297.0  \n"
     ]
    }
   ],
   "source": [
    "table_1.date = pd.to_datetime(table_1.date)\n",
    "\n",
    "q = \"\"\"\n",
    "    SELECT \n",
    "        strftime(\"%m/%Y\", table_1.date) as \"Month_Year\",\n",
    "        strftime(\"%m\", table_1.date) as \"Month\",\n",
    "        strftime(\"%Y\", table_1.date) as \"Year\",\n",
    "        \n",
    "        max(case when t2.annual_rank = 1 then table_1.source_id else NULL end)\n",
    "            as source_1,\n",
    "        sum(case when t2.annual_rank = 1 then table_1.revenue else null end)\n",
    "            as revenue_1,\n",
    "        max(case when t2.annual_rank = 2 then table_1.source_id else NULL end)\n",
    "            as source_2,\n",
    "        sum(case when t2.annual_rank = 2 then table_1.revenue else null end)\n",
    "            as revenue_2,\n",
    "        max(case when t2.annual_rank = 3 then table_1.source_id else null end)\n",
    "            as source_3,\n",
    "        sum(case when t2.annual_rank = 3 then table_1.revenue else null end)\n",
    "            as revenue_3, \n",
    "        max(case when t2.annual_rank = 4 then table_1.source_id else null end)\n",
    "            as source_4,\n",
    "        sum(case when t2.annual_rank = 4 then table_1.revenue else null end)\n",
    "            as revenue_4\n",
    "\n",
    "    FROM table_1 \n",
    "        INNER JOIN (\n",
    "            SELECT \n",
    "                source_id,\n",
    "                sum(revenue) as \"Total Revenue\",\n",
    "                rank() over (order by sum(revenue) desc) as annual_rank\n",
    "            FROM table_1\n",
    "            GROUP BY source_id\n",
    "            ORDER BY sum(revenue) desc\n",
    "            LIMIT 4\n",
    "            ) t2\n",
    "            ON table_1.source_id = t2.source_id\n",
    "    GROUP BY 1,2,3\n",
    "    ORDER BY Month_Year\n",
    "\"\"\"\n",
    "table_2 = sqldf(q,locals())\n",
    "print(table_2)"
   ]
  },
  {
   "cell_type": "code",
   "execution_count": 8,
   "id": "abf10a53",
   "metadata": {},
   "outputs": [
    {
     "data": {
      "image/png": "[encoded data removed]",
      "text/plain": [
       "<Figure size 1440x864 with 2 Axes>"
      ]
     },
     "metadata": {
      "needs_background": "light"
     },
     "output_type": "display_data"
    }
   ],
   "source": [
    "import numpy as np\n",
    "import matplotlib.pyplot as plt\n",
    "%matplotlib inline\n",
    "\n",
    "from matplotlib.ticker import MaxNLocator\n",
    "\n",
    "fig_1 = plt.figure(1, figsize=(20,12))\n",
    "monthly_revenue = fig_1.add_subplot(211)\n",
    "cumulative_monthly_revenue = fig_1.add_subplot(212)\n",
    "\n",
    "x = np.arange(len(table_2.Month_Year))  # the label locations\n",
    "width = 0.2  # the width of the bars\n",
    "\n",
    "table_2.Month_Year = pd.to_datetime(table_2.Month_Year)\n",
    "table_2.Month_Year = table_2.Month_Year.dt.strftime('%m/%Y')\n",
    "\n",
    "rects1 = monthly_revenue.bar(x - width*3/2, table_2.revenue_1, width)\n",
    "rects2 = monthly_revenue.bar(x - width/2  , table_2.revenue_2, width)\n",
    "rects3 = monthly_revenue.bar(x + width/2  , table_2.revenue_3, width)\n",
    "rects4 = monthly_revenue.bar(x + width*3/2, table_2.revenue_4, width)\n",
    "\n",
    "line1 = cumulative_monthly_revenue.bar(x - width*3/2, table_2.revenue_1.cumsum(), width)\n",
    "line2 = cumulative_monthly_revenue.bar(x - width/2  , table_2.revenue_2.cumsum(), width)\n",
    "line3 = cumulative_monthly_revenue.bar(x + width/2  , table_2.revenue_3.cumsum(), width)\n",
    "line4 = cumulative_monthly_revenue.bar(x + width*3/2, table_2.revenue_4.cumsum(), width)\n",
    "\n",
    "monthly_revenue.set_ylabel('Monthly Revenue')\n",
    "monthly_revenue.set_xlabel('Month')\n",
    "monthly_revenue.set_title('Top 4 Sources - Monthly')\n",
    "monthly_revenue.set_xticks(x, table_2.Month_Year)\n",
    "\n",
    "cumulative_monthly_revenue.set_ylabel('Cumulative Revenue')\n",
    "cumulative_monthly_revenue.set_xlabel('Month')\n",
    "cumulative_monthly_revenue.set_title('Top 4 Sources - Cumulative')\n",
    "cumulative_monthly_revenue.set_xticks(x, table_2.Month_Year)\n",
    "\n",
    "mylabels = ['#1 - ' + np.max(table_2.source_1), \n",
    "            '#2 - ' + np.max(table_2.source_2), \n",
    "            '#3 - ' + np.max(table_2.source_3), \n",
    "            '#4 - ' + np.max(table_2.source_4)]\n",
    "\n",
    "monthly_revenue.legend(labels = mylabels)\n",
    "cumulative_monthly_revenue.legend(labels = mylabels)\n",
    "\n",
    "plt.show()"
   ]
  },
  {
   "cell_type": "raw",
   "id": "e1e4b1d8",
   "metadata": {},
   "source": [
    "(4) In either R or Python, read the data into an object called activity_data, and then build a vanilla logistic regression model to predict activity. That is, predict activity using just age, gender, metropolitan area, and device type. Depending on your choice of language and package to build the regression, you may need to convert some of the categorical variables such as gender. Given this vanilla logistic regression model, assess the prediction accuracy."
   ]
  },
  {
   "cell_type": "code",
   "execution_count": 77,
   "id": "4e7a0c45",
   "metadata": {
    "scrolled": false
   },
   "outputs": [
    {
     "data": {
      "text/html": [
       "<div>\n",
       "<style scoped>\n",
       "    .dataframe tbody tr th:only-of-type {\n",
       "        vertical-align: middle;\n",
       "    }\n",
       "\n",
       "    .dataframe tbody tr th {\n",
       "        vertical-align: top;\n",
       "    }\n",
       "\n",
       "    .dataframe thead th {\n",
       "        text-align: right;\n",
       "    }\n",
       "</style>\n",
       "<table border=\"1\" class=\"dataframe\">\n",
       "  <thead>\n",
       "    <tr style=\"text-align: right;\">\n",
       "      <th></th>\n",
       "      <th>userid</th>\n",
       "      <th>date</th>\n",
       "      <th>age</th>\n",
       "      <th>gender</th>\n",
       "      <th>metropolitan_area</th>\n",
       "      <th>device_type</th>\n",
       "      <th>active</th>\n",
       "    </tr>\n",
       "  </thead>\n",
       "  <tbody>\n",
       "    <tr>\n",
       "      <th>0</th>\n",
       "      <td>4e3a9ea937b3a</td>\n",
       "      <td>8/4/15</td>\n",
       "      <td>30</td>\n",
       "      <td>F</td>\n",
       "      <td>Detroit</td>\n",
       "      <td>Tablet</td>\n",
       "      <td>1</td>\n",
       "    </tr>\n",
       "    <tr>\n",
       "      <th>1</th>\n",
       "      <td>4e3dd5154a08c</td>\n",
       "      <td>8/6/15</td>\n",
       "      <td>43</td>\n",
       "      <td>F</td>\n",
       "      <td>Charlotte</td>\n",
       "      <td>Desktop</td>\n",
       "      <td>1</td>\n",
       "    </tr>\n",
       "    <tr>\n",
       "      <th>2</th>\n",
       "      <td>4e3df1ecd131a</td>\n",
       "      <td>8/6/15</td>\n",
       "      <td>41</td>\n",
       "      <td>F</td>\n",
       "      <td>Tampa</td>\n",
       "      <td>Mobile</td>\n",
       "      <td>1</td>\n",
       "    </tr>\n",
       "    <tr>\n",
       "      <th>3</th>\n",
       "      <td>4e4e77461b1e3</td>\n",
       "      <td>8/19/15</td>\n",
       "      <td>56</td>\n",
       "      <td>F</td>\n",
       "      <td>Nashville</td>\n",
       "      <td>Desktop</td>\n",
       "      <td>1</td>\n",
       "    </tr>\n",
       "    <tr>\n",
       "      <th>4</th>\n",
       "      <td>4e4eb59b6de55</td>\n",
       "      <td>8/19/15</td>\n",
       "      <td>33</td>\n",
       "      <td>F</td>\n",
       "      <td>Detroit</td>\n",
       "      <td>Mobile</td>\n",
       "      <td>1</td>\n",
       "    </tr>\n",
       "    <tr>\n",
       "      <th>...</th>\n",
       "      <td>...</td>\n",
       "      <td>...</td>\n",
       "      <td>...</td>\n",
       "      <td>...</td>\n",
       "      <td>...</td>\n",
       "      <td>...</td>\n",
       "      <td>...</td>\n",
       "    </tr>\n",
       "    <tr>\n",
       "      <th>5415</th>\n",
       "      <td>4e9cce2b66d44</td>\n",
       "      <td>10/17/15</td>\n",
       "      <td>21</td>\n",
       "      <td>M</td>\n",
       "      <td>Houston</td>\n",
       "      <td>Tablet</td>\n",
       "      <td>0</td>\n",
       "    </tr>\n",
       "    <tr>\n",
       "      <th>5416</th>\n",
       "      <td>4f2ab00039f50</td>\n",
       "      <td>2/2/16</td>\n",
       "      <td>42</td>\n",
       "      <td>F</td>\n",
       "      <td>Birmingham</td>\n",
       "      <td>Mobile</td>\n",
       "      <td>0</td>\n",
       "    </tr>\n",
       "    <tr>\n",
       "      <th>5417</th>\n",
       "      <td>4e642e7208f6b</td>\n",
       "      <td>9/4/15</td>\n",
       "      <td>40</td>\n",
       "      <td>F</td>\n",
       "      <td>Houston</td>\n",
       "      <td>Mobile</td>\n",
       "      <td>0</td>\n",
       "    </tr>\n",
       "    <tr>\n",
       "      <th>5418</th>\n",
       "      <td>4f40149878765</td>\n",
       "      <td>2/18/16</td>\n",
       "      <td>40</td>\n",
       "      <td>F</td>\n",
       "      <td>Houston</td>\n",
       "      <td>Mobile</td>\n",
       "      <td>0</td>\n",
       "    </tr>\n",
       "    <tr>\n",
       "      <th>5419</th>\n",
       "      <td>4ea84c57de3bb</td>\n",
       "      <td>10/26/15</td>\n",
       "      <td>30</td>\n",
       "      <td>F</td>\n",
       "      <td>Tampa</td>\n",
       "      <td>Mobile</td>\n",
       "      <td>0</td>\n",
       "    </tr>\n",
       "  </tbody>\n",
       "</table>\n",
       "<p>5420 rows × 7 columns</p>\n",
       "</div>"
      ],
      "text/plain": [
       "             userid      date  age gender metropolitan_area device_type  \\\n",
       "0     4e3a9ea937b3a    8/4/15   30      F           Detroit      Tablet   \n",
       "1     4e3dd5154a08c    8/6/15   43      F         Charlotte     Desktop   \n",
       "2     4e3df1ecd131a    8/6/15   41      F             Tampa      Mobile   \n",
       "3     4e4e77461b1e3   8/19/15   56      F         Nashville     Desktop   \n",
       "4     4e4eb59b6de55   8/19/15   33      F           Detroit      Mobile   \n",
       "...             ...       ...  ...    ...               ...         ...   \n",
       "5415  4e9cce2b66d44  10/17/15   21      M           Houston      Tablet   \n",
       "5416  4f2ab00039f50    2/2/16   42      F        Birmingham      Mobile   \n",
       "5417  4e642e7208f6b    9/4/15   40      F           Houston      Mobile   \n",
       "5418  4f40149878765   2/18/16   40      F           Houston      Mobile   \n",
       "5419  4ea84c57de3bb  10/26/15   30      F             Tampa      Mobile   \n",
       "\n",
       "      active  \n",
       "0          1  \n",
       "1          1  \n",
       "2          1  \n",
       "3          1  \n",
       "4          1  \n",
       "...      ...  \n",
       "5415       0  \n",
       "5416       0  \n",
       "5417       0  \n",
       "5418       0  \n",
       "5419       0  \n",
       "\n",
       "[5420 rows x 7 columns]"
      ]
     },
     "execution_count": 77,
     "metadata": {},
     "output_type": "execute_result"
    }
   ],
   "source": [
    "from sklearn.model_selection import train_test_split\n",
    "from math import exp\n",
    "activity_data = pd.read_csv(filepath + \"interviewdata-activity.csv\")\n",
    "activity_data\n",
    "# activity_data.iloc[:,(6)]\n",
    "# activity_data.iloc[:,(1)]\n",
    "# x = pd.read_csv(filepath + \"interviewdata-activity.csv\", usecols=[2,3,4,5])\n",
    "# print(x)"
   ]
  },
  {
   "cell_type": "code",
   "execution_count": 48,
   "id": "d5217806",
   "metadata": {
    "scrolled": true
   },
   "outputs": [
    {
     "data": {
      "image/png": "[encoded data removed]",
      "text/plain": [
       "<Figure size 432x288 with 1 Axes>"
      ]
     },
     "metadata": {
      "needs_background": "light"
     },
     "output_type": "display_data"
    }
   ],
   "source": [
    "# Referencing this doc: https://towardsdatascience.com/logistic-regression-explained-and-implemented-in-python-880955306060\n",
    "import numpy as np\n",
    "from sklearn.model_selection import train_test_split\n",
    "from math import exp\n",
    "\n",
    "\n",
    "# Visualizing the dataset\n",
    "plt.scatter(activity_data.age, activity_data.active, s=0.25)\n",
    "plt.show\n",
    "\n",
    "# Divide the data to training set and test set\n",
    "X_train, X_test, y_train, y_test = train_test_split(activity_data.age, activity_data.active, test_size=0.20)\n"
   ]
  },
  {
   "cell_type": "code",
   "execution_count": 54,
   "id": "a84ab6be",
   "metadata": {},
   "outputs": [],
   "source": [
    "# Creating the logistic regression model\n",
    "\n",
    "# Helper function to normalize data\n",
    "def normalize(X):\n",
    "    return X - X.mean()\n",
    "\n",
    "# Method to make predictions\n",
    "def predict(X, b0, b1):\n",
    "    return np.array([1 / (1 + exp(-1*b0 + -1*b1*x)) for x in X])\n",
    "\n",
    "# Method to train the model\n",
    "def logistic_regression(X, Y):\n",
    "\n",
    "    X = normalize(X)\n",
    "\n",
    "    # Initializing variables\n",
    "    b0 = 0\n",
    "    b1 = 0\n",
    "    L = 0.001\n",
    "    epochs = 300\n",
    "\n",
    "    for epoch in range(epochs):\n",
    "        y_pred = predict(X, b0, b1)\n",
    "        D_b0 = -2 * sum((Y - y_pred) * y_pred * (1 - y_pred))  # Derivative of loss wrt b0\n",
    "        D_b1 = -2 * sum(X * (Y - y_pred) * y_pred * (1 - y_pred))  # Derivative of loss wrt b1\n",
    "        # Update b0 and b1\n",
    "        b0 = b0 - L * D_b0\n",
    "        b1 = b1 - L * D_b1\n",
    "    \n",
    "    return b0, b1"
   ]
  },
  {
   "cell_type": "code",
   "execution_count": null,
   "id": "4d644b63",
   "metadata": {},
   "outputs": [],
   "source": [
    "# Training the model\n",
    "b0, b1 = logistic_regression(X_train, y_train)\n",
    "\n",
    "# Making predictions\n",
    "X_test_norm = normalize(X_test)\n",
    "y_pred = predict(X_test_norm, b0, b1)\n",
    "y_pred = [1 if p >= 0.5 else 0 for p in y_pred]\n",
    "\n",
    "plt.clf()\n",
    "plt.scatter(X_test, y_test)\n",
    "plt.scatter(X_test, y_pred, c=\"red\")\n",
    "plt.show()\n",
    "\n",
    "# The accuracy\n",
    "accuracy = 0\n",
    "for i in range(len(y_pred)):\n",
    "    if y_pred[i] == y_test.iloc[i]:\n",
    "        accuracy += 1\n",
    "print(f\"Accuracy = {accuracy / len(y_pred)}\")\n",
    "# Accuracy = 0.5535055350553506\n",
    "\n",
    "# This doc I'm referencing only uses a single feature to model the 'activity'. \n",
    "# I found some other websites to reference, but it's taking me some time to \n",
    "# figure out some of the data extraction/transformations in python."
   ]
  },
  {
   "cell_type": "code",
   "execution_count": 80,
   "id": "3555b9c6",
   "metadata": {},
   "outputs": [
    {
     "ename": "SyntaxError",
     "evalue": "invalid syntax (3267087836.py, line 12)",
     "output_type": "error",
     "traceback": [
      "\u001b[0;36m  Input \u001b[0;32mIn [80]\u001b[0;36m\u001b[0m\n\u001b[0;31m    -----------------------------------------------------------------------------------------\u001b[0m\n\u001b[0m                                                                                             ^\u001b[0m\n\u001b[0;31mSyntaxError\u001b[0m\u001b[0;31m:\u001b[0m invalid syntax\n"
     ]
    }
   ],
   "source": [
    "# 2nd attempt on 4, but not sure how to incorporate multiple x coefficients into this example\n",
    "\n",
    "# x = pd.read_csv(filepath + \"interviewdata-activity.csv\", usecols=[2,3,4,5])\n",
    "# y = activity_data.iloc[:,6]\n",
    "\n",
    "# # Visualizing the dataset\n",
    "# plt.scatter(x,y)\n",
    "# plt.show()\n",
    "# activity_data.gender[activity_data.gender == 'M'] = 1\n",
    "# activity_data.gender[activity_data.gender == 'F'] = 0\n",
    "\n",
    "-----------------------------------------------------------------------------------------\n",
    "# Reference: https://towardsdatascience.com/linear-regression-using-python-b136c91bf0a2\n",
    "# imports\n",
    "import numpy as np\n",
    "import matplotlib.pyplot as plt\n",
    "from sklearn.linear_model import LinearRegression\n",
    "from sklearn.metrics import mean_squared_error, r2_score\n",
    "\n",
    "# generate random data-set\n",
    "x = pd.read_csv(filepath + \"interviewdata-activity.csv\", usecols=[2,3,4,5])\n",
    "y = activity_data.iloc[:,6]\n",
    "\n",
    "# sckit-learn implementation\n",
    "\n",
    "# Model initialization\n",
    "regression_model = LinearRegression()\n",
    "# Fit the data(train the model)\n",
    "regression_model.fit(x, y)\n",
    "# Predict\n",
    "y_predicted = regression_model.predict(x)\n",
    "\n",
    "# model evaluation\n",
    "rmse = mean_squared_error(y, y_predicted)\n",
    "r2 = r2_score(y, y_predicted)\n",
    "\n",
    "# printing values\n",
    "print('Slope:' ,regression_model.coef_)\n",
    "print('Intercept:', regression_model.intercept_)\n",
    "print('Root mean squared error: ', rmse)\n",
    "print('R2 score: ', r2)\n",
    "\n",
    "# plotting values\n",
    "\n",
    "# data points\n",
    "plt.scatter(x, y, s=10)\n",
    "plt.xlabel('x')\n",
    "plt.ylabel('y')\n",
    "\n",
    "# predicted values\n",
    "plt.plot(x, y_predicted, color='r')\n",
    "plt.show()\n",
    "\n"
   ]
  },
  {
   "cell_type": "raw",
   "id": "87311114",
   "metadata": {},
   "source": [
    "(5) Split the data into training and test samples by separating the first 4000 rows into training data, and build a model over the new training data.\n",
    "Assess the training data model’s accuracy on the test data. How and why does the accuracy differ compared to (4)?\n",
    "\n",
    "Question 6 deals with “InterviewData_Parsing.csv”.\n",
    "(6) This data comes from a subset of user data JSON blobs stored in our database. Parse out the values (stored in the “data_to_parse” column) into four separate columns. So for example, the four addi2onal columns for the first entry would have values of “N”, “U”, “A7”, and “W”. You can use any R func2ons/ packages you want for this."
   ]
  },
  {
   "cell_type": "code",
   "execution_count": 131,
   "id": "6449dff6",
   "metadata": {},
   "outputs": [
    {
     "data": {
      "text/html": [
       "<div>\n",
       "<style scoped>\n",
       "    .dataframe tbody tr th:only-of-type {\n",
       "        vertical-align: middle;\n",
       "    }\n",
       "\n",
       "    .dataframe tbody tr th {\n",
       "        vertical-align: top;\n",
       "    }\n",
       "\n",
       "    .dataframe thead th {\n",
       "        text-align: right;\n",
       "    }\n",
       "</style>\n",
       "<table border=\"1\" class=\"dataframe\">\n",
       "  <thead>\n",
       "    <tr style=\"text-align: right;\">\n",
       "      <th></th>\n",
       "      <th>0</th>\n",
       "      <th>1</th>\n",
       "      <th>2</th>\n",
       "      <th>3</th>\n",
       "      <th>4</th>\n",
       "    </tr>\n",
       "  </thead>\n",
       "  <tbody>\n",
       "    <tr>\n",
       "      <th>0</th>\n",
       "      <td>\"value\"</td>\n",
       "      <td>N</td>\n",
       "      <td>U</td>\n",
       "      <td>A7</td>\n",
       "      <td>W</td>\n",
       "    </tr>\n",
       "    <tr>\n",
       "      <th>1</th>\n",
       "      <td>\"value\"</td>\n",
       "      <td>N</td>\n",
       "      <td>U</td>\n",
       "      <td>I6</td>\n",
       "      <td>W</td>\n",
       "    </tr>\n",
       "    <tr>\n",
       "      <th>2</th>\n",
       "      <td>\"value\"</td>\n",
       "      <td>Y</td>\n",
       "      <td>U</td>\n",
       "      <td>A7</td>\n",
       "      <td>W</td>\n",
       "    </tr>\n",
       "    <tr>\n",
       "      <th>3</th>\n",
       "      <td>\"value\"</td>\n",
       "      <td>N</td>\n",
       "      <td>U</td>\n",
       "      <td>I1</td>\n",
       "      <td>W</td>\n",
       "    </tr>\n",
       "    <tr>\n",
       "      <th>4</th>\n",
       "      <td>\"value\"</td>\n",
       "      <td>Y</td>\n",
       "      <td>U</td>\n",
       "      <td>A7</td>\n",
       "      <td>W</td>\n",
       "    </tr>\n",
       "  </tbody>\n",
       "</table>\n",
       "</div>"
      ],
      "text/plain": [
       "         0  1  2   3  4\n",
       "0  \"value\"  N  U  A7  W\n",
       "1  \"value\"  N  U  I6  W\n",
       "2  \"value\"  Y  U  A7  W\n",
       "3  \"value\"  N  U  I1  W\n",
       "4  \"value\"  Y  U  A7  W"
      ]
     },
     "execution_count": 131,
     "metadata": {},
     "output_type": "execute_result"
    }
   ],
   "source": [
    "# from pyspark.sql import SparkSession\n",
    "import json\n",
    "id_parse = pd.read_csv(filepath + \"interviewdata-parsing.csv\")\n",
    "\n",
    "\n",
    "data_to_parse = id_parse.iloc[:,1]\n",
    "data_to_parse.head\n",
    "\n",
    "split = id_parse.pop('data_to_parse').str.extract(r'(\"value\")\\:\\\"(\\S+)\\;(\\S+)\\;(\\S+)\\;(\\S+)\\\"\\}\\]')\n",
    "split.head()"
   ]
  },
  {
   "cell_type": "raw",
   "id": "b3f03170",
   "metadata": {},
   "source": [
    "Additional Question (B)\n",
    "\n",
    "Optimizing campaigns on Facebook can be tricky since there are many settings available in the campaign manager. Measuring the basics(Click Through Rate, Click to Install/Convert, Install Rates, Bounce Rates, Conversions*1000/Impressions) is vital since they are the clearest success metrics on FB. Ultimately, we want to be finding trends in the data and taking advantage of them. People are generally very good at seeing patterns and, in my experience, if marketers have access to custom reporting that (1) has all their most common use cases built in and (2) gives them the ability to drill down and do independent research, they’ll be set up for success. Some report dimensions that have helped me in the past are Geo-based(regions, tax havens, country, state), type of digital ad supply(interstitial, in-feed, rewarded, incentivized, organic), and which apps we are buying ads on(maintained an app taxonomy). \n",
    "\n",
    "Applying some basic taxonomy principles to FB Likes and friend networks would also be interesting. NPS(Net Promoter Score) is widely used to measure customer satisfaction but those often rely on surveys and polls. Supplementing Facebook’s data with Fuzzy’s internal data regarding referrals might help the marketer identify individuals or groups with strong network effects. \n",
    "\n",
    "It would also be useful to find some metric that is an early indicator of conversion/payer. In gaming, I had access to our player behavior after an install. We found that players that were highly engaged in the game(reaching a certain level within some time period after installing) were more likely to become paying users. This helped a lot with my a/b testing, since I had an earlier indicator of quality and could iterate more quickly. \n",
    "\n",
    "No surprise to marketers, but timing is also a big factor. Weekends and holidays are always big opportunities. Keeping in touch with how different subcultures celebrate can often be very helpful. A lot of companies really focus on having holiday-branded content, but I've found it’s most helpful just to get your ads in front of your potential customers while they have free time and are spending more time on their phones. \n",
    "\n",
    "Marketers often switch out a majority of their ads on a regular basis to keep things fresh. This emphasizes the importance of finding your “Evergreen” ads and changing your bidding strategy to optimize longevity on those campaigns. "
   ]
  }
 ],
 "metadata": {
  "kernelspec": {
   "display_name": "Python 3 (ipykernel)",
   "language": "python",
   "name": "python3"
  },
  "language_info": {
   "codemirror_mode": {
    "name": "ipython",
    "version": 3
   },
   "file_extension": ".py",
   "mimetype": "text/x-python",
   "name": "python",
   "nbconvert_exporter": "python",
   "pygments_lexer": "ipython3",
   "version": "3.9.12"
  }
 },
 "nbformat": 4,
 "nbformat_minor": 5
}
